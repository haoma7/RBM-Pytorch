{
 "cells": [
  {
   "cell_type": "code",
   "execution_count": 1,
   "metadata": {},
   "outputs": [],
   "source": [
    "import torch\n",
    "import torch.nn.functional as F\n",
    "import numpy as np\n",
    "import torchvision\n",
    "from torchvision import transforms\n",
    "import matplotlib.pyplot as plt\n",
    "import pickle\n",
    "\n",
    "class BinaryRBM():\n",
    "    \n",
    "    # RBM Initialization\n",
    "    def __init__(self, num_v, num_h):\n",
    "\n",
    "        \"\"\"\n",
    "        Args:\n",
    "            num_v (int): the number of nodes in the visible layer\n",
    "            num_h (int): the number of nodes in the hidden layer       \n",
    "        \"\"\"\n",
    "\n",
    "        self.num_v = num_v # the number of visible nodes\n",
    "        self.num_h = num_h # the number of hidden nodes\n",
    "\n",
    "        # normalization to ensure stability ? \n",
    "        self.w = torch.randn(num_h, num_v, dtype=torch.float32) / np.sqrt(num_v)\n",
    "        self.b = torch.zeros(num_v, dtype=torch.float32).unsqueeze(1) # bias (column) vector for the visible layer\n",
    "        self.c = torch.zeros(num_h, dtype=torch.float32).unsqueeze(1) # bias (column) vector for the hidden layer\n",
    "\n",
    "    \n",
    "\n",
    "    # Calculation of the free energy F(v)\n",
    "    def free_energy_func (self, v):\n",
    "        \"\"\"\n",
    "        Args:\n",
    "        v (torch.Tensor): the visible states\n",
    "\n",
    "        Returns:\n",
    "        free_energy (torch.Tensor): the free energy F(v) (c.f. Eq (12))\n",
    "\n",
    "        \"\"\"\n",
    "        # c.f. Eq.(12)\n",
    "        # .sum(0) represents the summation of different rows\n",
    "        # F.softplus(x) calculates log(1+exp(x))\n",
    "  \n",
    "        return -torch.matmul(self.b.t(),v) - F.softplus(torch.addmm(self.c,self.w,v)).sum(0)\n",
    "\n",
    "    def sample_h_given_v(self, v):\n",
    "        \"\"\"\n",
    "          Args:\n",
    "        v (torch.Tensor): the visible states\n",
    "\n",
    "        \n",
    "        Returns:\n",
    "        sampled_h (torch.Tensor): the sample h according to Eq.(17). \n",
    "                                  It is a column vector that contains 0 or 1. \n",
    "\n",
    "        \"\"\"\n",
    "     \n",
    "        return (torch.addmm(self.c,self.w,v).sigmoid_()>torch.rand(self.num_h,1)).float() # c.f. Eq (17)\n",
    "\n",
    "    def sample_v_given_h(self, h):\n",
    "        \"\"\"\n",
    "        Args:\n",
    "        h (torch.Tensor): the hidden states\n",
    "        \n",
    "        Returns:\n",
    "        sampled_v (torch.Tensor): the sample v according to Eq.(18). \n",
    "                                  It is a column vector that contains 0 or 1. \n",
    "\n",
    "        \"\"\"\n",
    "        return ( torch.addmm(self.b, self.w.t(), h).sigmoid_()>torch.rand(self.num_v, 1) ).float() # c.f. Eq (18)\n",
    "\n",
    "\n",
    "    def block_gibbs_sampling(self, initial_v, num_iter):\n",
    "        \"\"\"\n",
    "        Args:\n",
    "        initial_v (torch.Tensor): the initial visible states to start the block gibbs sampling\n",
    "        num_iter(int): the number of iterations for the gibbs sampling\n",
    "    \n",
    "        Returns:\n",
    "        gibbs_v (torch.Tensor): the sampled visible states\n",
    "        \"\"\"\n",
    "        v = initial_v\n",
    "\n",
    "        for _ in range(num_iter):\n",
    "            \n",
    "            h = self.sample_h_given_v(v)\n",
    "            v = self.sample_v_given_h(h)\n",
    "\n",
    "        return v\n",
    "\n",
    "    def free_energy_gradient(self, v):\n",
    "        \"\"\"\n",
    "        Args:\n",
    "        v (torch.Tensor): the visible states\n",
    "\n",
    "        Returns:\n",
    "        grad_w (torch.Tensor): the average gradient of the free energy with respect to w across all samples\n",
    "        grad_b (torch.Tensor): the average gradient of the free energy with respect to b across all samples\n",
    "        grad_c (torch.Tensor): the average gradient of the free energy with respect to c across all samples\n",
    "\n",
    "        \"\"\"\n",
    "        temp = -torch.addmm(self.c,self.w,v).sigmoid_()\n",
    "\n",
    "        grad_c =  temp.mean(dim=1).unsqueeze(1)\n",
    "        grad_b = - v.mean(dim=1).unsqueeze(1)\n",
    "        grad_w = torch.matmul(temp,v.t())/v.size(1)\n",
    "\n",
    "        \n",
    "        return grad_w, grad_b, grad_c\n",
    "\n",
    "    def mini_batch_gradient_func (self, v, cd_k):\n",
    "        \n",
    "        \"\"\"\n",
    "        Args:\n",
    "        v (torch.Tensor): the visible states\n",
    "        cd_k (int): cd_k mode that is chosen\n",
    "\n",
    "        Returns:\n",
    "        grad_mini_batch (Torch) the average gradient across all samples in the mini-batch\n",
    "        \"\"\"\n",
    "        v_k = self.block_gibbs_sampling(initial_v = v, num_iter = cd_k)\n",
    "        \n",
    "        [grad_w_pos, grad_b_pos, grad_c_pos] = self.free_energy_gradient(v)\n",
    "        [grad_w_neg, grad_b_neg, grad_c_neg] = self.free_energy_gradient(v_k)\n",
    "\n",
    "        return grad_w_pos - grad_w_neg, grad_b_pos - grad_b_neg, grad_c_pos - grad_c_neg # c.f. Eq.(13)\n",
    "        \n",
    "\n",
    "    def train(self, dataloader, cd_k, max_epochs = 10, lr = 0.01):\n",
    "        \"\"\"\n",
    "        Args:\n",
    "        dataloader: dataloader of the training data \n",
    "        cd_k: the contrastive divergence mode\n",
    "        max_epochs: number of epochs\n",
    "        lr: the learning rate\n",
    "\n",
    "        Returns:\n",
    "        w, b, c: the parameters of the RBM\n",
    "        \"\"\"\n",
    "        for iter in range(max_epochs):\n",
    "\n",
    "            print('Epoch {}'.format(iter))\n",
    "\n",
    "            for mini_batch_samples in dataloader:\n",
    "                mini_batch_samples_ = torch.flatten(mini_batch_samples[0].squeeze(1),start_dim=1).t().round()\n",
    "                grad_w, grad_b, grad_c = self.mini_batch_gradient_func(mini_batch_samples_, cd_k)\n",
    "                \n",
    "                \n",
    "                # update w, b, c\n",
    "                self.w -= lr * grad_w\n",
    "                self.b -= lr * grad_b\n",
    "                self.c -= lr * grad_c\n",
    "            # break\n",
    "            print(torch.norm(self.w))\n",
    "        \n",
    "        return self.w, self.b, self.c"
   ]
  },
  {
   "cell_type": "code",
   "execution_count": null,
   "metadata": {},
   "outputs": [],
   "source": [
    "def gen_mnist_image(X,num_of_img = 10):\n",
    "\n",
    "    # Display images as a group\n",
    "    return np.rollaxis(np.rollaxis(X[0:num_of_img].reshape(num_of_img, -1, 28, 28), 0, 2), 1, 3).reshape(-1, num_of_img * 28)"
   ]
  },
  {
   "cell_type": "code",
   "execution_count": 2,
   "metadata": {},
   "outputs": [
    {
     "name": "stdout",
     "output_type": "stream",
     "text": [
      "Epoch 0\n",
      "tensor(35.5882)\n",
      "Epoch 1\n",
      "tensor(45.4443)\n",
      "Epoch 2\n",
      "tensor(52.5071)\n",
      "Epoch 3\n",
      "tensor(58.2129)\n",
      "Epoch 4\n",
      "tensor(62.9542)\n",
      "Epoch 5\n",
      "tensor(66.9840)\n",
      "Epoch 6\n",
      "tensor(70.5157)\n",
      "Epoch 7\n",
      "tensor(73.6148)\n",
      "Epoch 8\n",
      "tensor(76.4091)\n",
      "Epoch 9\n",
      "tensor(78.9695)\n"
     ]
    }
   ],
   "source": [
    "model = BinaryRBM(784,128)\n",
    "\n",
    "# Load Data\n",
    "train_dataset = torchvision.datasets.MNIST(\"~\", train=True, transform=transforms.ToTensor(), download=True)\n",
    "train_loader = torch.utils.data.DataLoader(train_dataset, batch_size = 32,shuffle = True)\n",
    "    \n",
    "# Train\n",
    "w, b, c = model.train(train_loader, cd_k = 5)\n",
    "\n",
    "with open('objs.pkl', 'wb') as f:  # Python 3: open(..., 'wb')\n",
    "    pickle.dump([w.numpy(), b.numpy(),c.numpy()], f)\n",
    "\n",
    "\n"
   ]
  },
  {
   "cell_type": "code",
   "execution_count": 162,
   "metadata": {},
   "outputs": [],
   "source": [
    "# Test \n",
    "#i = iter(train_loader).next()\n",
    "\n",
    "# Generate new visible states with a random initial visible states via Gibbs sampling the RBM\n",
    "v_gen = model.block_gibbs_sampling(initial_v = i[0][0].view(-1,1).round(),num_iter = 1000)"
   ]
  },
  {
   "cell_type": "code",
   "execution_count": 165,
   "metadata": {},
   "outputs": [
    {
     "data": {
      "image/png": "[encoded data removed]",
      "text/plain": [
       "<Figure size 432x288 with 1 Axes>"
      ]
     },
     "metadata": {
      "needs_background": "light"
     },
     "output_type": "display_data"
    }
   ],
   "source": [
    "plt.imshow(i[0][0].squeeze(0).round(),cmap = \"gray\")\n",
    "\n",
    "plt.show()"
   ]
  },
  {
   "cell_type": "code",
   "execution_count": 163,
   "metadata": {},
   "outputs": [
    {
     "data": {
      "image/png": "[encoded data removed]",
      "text/plain": [
       "<Figure size 432x288 with 1 Axes>"
      ]
     },
     "metadata": {
      "needs_background": "light"
     },
     "output_type": "display_data"
    }
   ],
   "source": [
    "# Display the images\n",
    "#plt.imshow(gen_mnist_image(v_gen.t().view(10,1,28,28).numpy().round(),10),cmap = \"gray\")\n",
    "plt.imshow(v_gen.view(28,28).numpy(),cmap = \"gray\")\n",
    "plt.show()"
   ]
  },
  {
   "cell_type": "code",
   "execution_count": null,
   "metadata": {},
   "outputs": [],
   "source": []
  }
 ],
 "metadata": {
  "kernelspec": {
   "display_name": "Python 3",
   "language": "python",
   "name": "python3"
  },
  "language_info": {
   "codemirror_mode": {
    "name": "ipython",
    "version": 3
   },
   "file_extension": ".py",
   "mimetype": "text/x-python",
   "name": "python",
   "nbconvert_exporter": "python",
   "pygments_lexer": "ipython3",
   "version": "3.6.8"
  }
 },
 "nbformat": 4,
 "nbformat_minor": 2
}
